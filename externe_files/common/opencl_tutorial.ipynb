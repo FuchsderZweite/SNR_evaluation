{
 "cells": [
  {
   "cell_type": "code",
   "execution_count": null,
   "metadata": {},
   "outputs": [],
   "source": [
    "%pylab\n",
    "import sys; sys.path.append('..')\n",
    "import opencl as cl"
   ]
  },
  {
   "cell_type": "code",
   "execution_count": null,
   "metadata": {
    "scrolled": true
   },
   "outputs": [],
   "source": [
    "# module documentation\n",
    "help(cl.get_compute_device)\n",
    "help(cl.ComputeDevice)\n",
    "help(cl.Program)\n",
    "help(cl.Kernel.__call__)\n",
    "help(cl.Image)\n",
    "help(cl.Buffer)"
   ]
  },
  {
   "cell_type": "markdown",
   "metadata": {},
   "source": [
    "## hints\n",
    "- Documentation for OpenCl (use 1.2) can be donloaded from https://www.khronos.org/registry/OpenCL/. The overview over available functions is downloadable from https://www.khronos.org/registry/cl/sdk/1.2/docs/OpenCL-1.2-refcard.pdf.\n",
    "- For writing good code, you need to understand some important concepts of OpenCl and GPU programming. These are at least: \n",
    "    - Parallel execution in work groups, \n",
    "    - caching, texture memory (`cl.Image` objects) and `constant` buffers, \n",
    "    - execution queue,\n",
    "    - performance bottlenecks (memory bandwith vs. computation)\n",
    "    - ... in addition to more basic computation concepts (e.g. data types int/float, ...).\n",
    "- On Windows, long kernel executions (Kernel.\\_\\_call\\_\\_ has runtime over 2 s) can lead to arbitrary program crashes due to a \"bug\" in the operating system. Solution: split computation into several calls, e.g. by tiling an image.\n",
    "\n",
    "In the following cell, a very simple example of an OpenCl kernel execution is shown."
   ]
  },
  {
   "cell_type": "code",
   "execution_count": null,
   "metadata": {},
   "outputs": [],
   "source": [
    "# a device must be initialized before any computations can be done (should only be executed once)\n",
    "cl_device = cl.get_compute_device()\n",
    "cl.CHECK_KERNEL_ARGS = True # enable debugging feature of the opencl module"
   ]
  },
  {
   "cell_type": "code",
   "execution_count": 13,
   "metadata": {},
   "outputs": [
    {
     "name": "stdout",
     "output_type": "stream",
     "text": [
      "===== OpenCl Program # 60215712 with 1 kernels =====\n",
      "compute(image2d_t image_in, float* image_out, float addition)\n",
      "===== end kernels =====\n",
      "Image with shape (221, 301) and image format (INTENSITY, FLOAT) (id 60372800)\n",
      "Buffer with size 266084 (id c_ulong(44216096))\n",
      "means: -0.0042030094 1.2831137\n"
     ]
    }
   ],
   "source": [
    "# first step: write OpenCl kernels (the language is based on C)\n",
    "cl_source = '''\n",
    "constant sampler_t nearest_sampler = CLK_NORMALIZED_COORDS_FALSE | CLK_ADDRESS_CLAMP | CLK_FILTER_NEAREST;\n",
    "// change the sample e.g. to use linear interpolation (which has +0.5f coordinate offset compared to nearest)\n",
    "\n",
    "kernel void compute(read_only image2d_t image_in, global float* image_out, float addition) {\n",
    "    const int2 pos = (int2)(get_global_id(0), get_global_id(1));\n",
    "    const int2 shape = get_image_dim(image_in);\n",
    "    if (all(pos < shape)) {\n",
    "        float value = read_imagef(image_in, nearest_sampler, pos).x;\n",
    "        \n",
    "        if (fabs(value) > 1.0f){value = sign(value)*(2.0f+log(fabs(value)));}\n",
    "        else{value = exp(value);}\n",
    "        \n",
    "        value = exp(-fabs(value));\n",
    "        \n",
    "        if (value < 0.f){value = 0.f;}\n",
    "        \n",
    "        value += addition;\n",
    "        \n",
    "        image_out[shape.x*pos.y+pos.x] = value;\n",
    "    }\n",
    "}\n",
    "'''\n",
    "\n",
    "# second step: compile kernels\n",
    "program = cl.Program(cl_device, cl_source)\n",
    "print(program)\n",
    "\n",
    "# third step: allocate device memory\n",
    "image = random.randn(221, 301).astype('f4') # input data on CPU memory\n",
    "image_cl = cl.Image(cl_device, arr=image) # allocate GPU memory and copy data (default arg usage)\n",
    "result_cl = cl.Buffer(cl_device, size=image.nbytes) # allocate GPU memory for result\n",
    "print(image_cl, result_cl, sep='\\n')\n",
    "\n",
    "# fourth step: execute kernel on device\n",
    "program.compute(image.shape, (16, 16), image_cl, result_cl, float32(1.0))\n",
    "\n",
    "# fifth step: retrieve result (device => Python)\n",
    "result = zeros_like(image)\n",
    "result_cl.copy_to(result)\n",
    "print('means:', image.mean(), result.mean())"
   ]
  },
  {
   "cell_type": "code",
   "execution_count": 12,
   "metadata": {},
   "outputs": [
    {
     "name": "stdout",
     "output_type": "stream",
     "text": [
      "[ 0.5117388   0.05801357  0.8154782   1.1815238  -1.1697786 ] \n",
      " [1.1885883 1.3465495 1.1043237 1.114543  1.1156931]\n"
     ]
    }
   ],
   "source": [
    "print(image[0, :5], '\\n', result[0, :5])"
   ]
  },
  {
   "cell_type": "markdown",
   "metadata": {},
   "source": [
    "# development: finding errors"
   ]
  },
  {
   "cell_type": "code",
   "execution_count": null,
   "metadata": {},
   "outputs": [],
   "source": [
    "# errors in the kernel code are shown this way\n",
    "wrong_cl_source = cl_source.replace('value += addition;', 'value += addition')\n",
    "cl.Program(cl_device, wrong_cl_source)"
   ]
  },
  {
   "cell_type": "code",
   "execution_count": null,
   "metadata": {},
   "outputs": [],
   "source": [
    "# wrong argument variant 1\n",
    "program.compute(image.shape, (16, 16), image, result_cl, float32(1.0))"
   ]
  },
  {
   "cell_type": "code",
   "execution_count": null,
   "metadata": {},
   "outputs": [],
   "source": [
    "# wrong argument variant 2 (only raises an Exception when cl.CHECK_KERNEL_ARGS is enabled)\n",
    "program.compute(image.shape, (16, 16), image_cl, result_cl, int32(1.0))"
   ]
  },
  {
   "cell_type": "code",
   "execution_count": null,
   "metadata": {},
   "outputs": [],
   "source": []
  }
 ],
 "metadata": {
  "kernelspec": {
   "display_name": "Python 3",
   "language": "python",
   "name": "python3"
  },
  "language_info": {
   "codemirror_mode": {
    "name": "ipython",
    "version": 3
   },
   "file_extension": ".py",
   "mimetype": "text/x-python",
   "name": "python",
   "nbconvert_exporter": "python",
   "pygments_lexer": "ipython3",
   "version": "3.7.5"
  }
 },
 "nbformat": 4,
 "nbformat_minor": 4
}
